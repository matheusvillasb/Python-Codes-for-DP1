{
 "cells": [
  {
   "cell_type": "markdown",
   "id": "21e4cb41",
   "metadata": {},
   "source": [
    "## Successive Approximation\n",
    "\n",
    "(see book DP1 Page 25)\n",
    "\n",
    "Consider a self-map $T$ on $U \\subset \\mathbb{R}^n$.  We seek algorithms that compute fixed points of $T$ whenever they exist.\n",
    "\n",
    "If $T$ is globally stable on $U$, then a natural algorithms for approximating the unique fixed point $u^*$ of $T$ in $U$ is **to pick any $u_0 \\in U$ and iterate with $T$** for some finite number of steps:\n",
    "\n",
    "1. fix $u_0 \\in U$ and $\\tau > 0$\n",
    "\n",
    "2. $k \\leftarrow 0$\n",
    "\n",
    "3. $\\epsilon \\leftarrow \\tau + 1$\n",
    "\n",
    "4. **while $\\epsilon > \\tau$ do**\n",
    "    \n",
    "5. $u_{k+1} \\leftarrow T u_k$\n",
    "    \n",
    "6. $\\epsilon \\leftarrow \\|u_{k+1} - u_k \\|$\n",
    "    \n",
    "7. $k \\leftarrow k + 1$\n",
    "    \n",
    "8. **end**\n",
    "\n",
    "9. return $u_k$\n",
    "\n",
    "The algorithm is called either **successive approximation** or **fixed-point iteration**.\n"
   ]
  },
  {
   "cell_type": "code",
   "execution_count": 2,
   "id": "80fcf98f",
   "metadata": {},
   "outputs": [],
   "source": [
    "import numpy as np\n",
    "# import matplotlib.pyplot as plt"
   ]
  },
  {
   "cell_type": "code",
   "execution_count": 9,
   "id": "ff484ed7",
   "metadata": {},
   "outputs": [],
   "source": [
    "def successive_approx(T,\n",
    "                     u_0,\n",
    "                     tolerance = 1e-6,\n",
    "                     max_iter = 10000,\n",
    "                     print_step = 25):\n",
    "    '''\n",
    "    This function is to compute the fixed point of a globally stable operator\n",
    "    T via successive approximation.\n",
    "    \n",
    "    :param T: The operator to iterate.\n",
    "    :param u_0: The initial value.\n",
    "    :param tolerance: Error tolerance for stopping criterion.\n",
    "    :param max_iter: Maximum number of iterations allowed.\n",
    "    :param print_step: Number of iterations between progress messages.\n",
    "    :return: Approximated fixed point.\n",
    "    '''\n",
    "    \n",
    "    u = u_0\n",
    "    error = tolerance + 1\n",
    "    k = 1\n",
    "    \n",
    "    while error > tolerance and k <= max_iter:\n",
    "    \n",
    "        u_new = T(u)\n",
    "        error = max(abs(u_new - u)) # with respect to supremum norm\n",
    "        \n",
    "        if k % print_step == 0:\n",
    "            print(f\"Completed iteration {k} with error {error}.\")\n",
    "        \n",
    "        u = u_new\n",
    "        k += 1\n",
    "        \n",
    "    if error <= tolerance:\n",
    "        print(f\"Terminated successfully in {k} iterations.\")\n",
    "    else:\n",
    "        print(f\"Warning: Iteration hit upper bound {max_iter}.\")\n",
    "    \n",
    "    return u"
   ]
  },
  {
   "cell_type": "code",
   "execution_count": 10,
   "id": "6abd48b4",
   "metadata": {
    "scrolled": true
   },
   "outputs": [
    {
     "name": "stdout",
     "output_type": "stream",
     "text": [
      "Completed iteration 25 with error 2.911659384707832e-06.\n",
      "Terminated successfully in 28 iterations.\n",
      "[2.43902363 4.63414496]\n"
     ]
    }
   ],
   "source": [
    "# Define the operator Tu = Au + b\n",
    "A = np.array([[0.4, 0.1],\n",
    "              [0.7, 0.2]])\n",
    "b = np.array([1.0, 2.0])\n",
    "   \n",
    "def T(u):\n",
    "    return A @ u + b\n",
    "    \n",
    "    \n",
    "# Compute fixed point via successive approximation\n",
    "u_0 = np.array([1.0, 1.0])\n",
    "u_star_approx = successive_approx(T, u_0)\n",
    "    \n",
    "print(u_star_approx)"
   ]
  },
  {
   "cell_type": "code",
   "execution_count": 4,
   "id": "535b50a6",
   "metadata": {},
   "outputs": [],
   "source": [
    "A = np.array([[0.4, 0.1],\n",
    "              [0.7, 0.2]])\n",
    "b = np.array([1.0, 2.0])"
   ]
  },
  {
   "cell_type": "code",
   "execution_count": 11,
   "id": "7310f196",
   "metadata": {},
   "outputs": [
    {
     "name": "stdout",
     "output_type": "stream",
     "text": [
      "[2.43902439 4.63414634]\n"
     ]
    }
   ],
   "source": [
    "# Compute fixed point via linear algebra (I - A)^{-1} * b\n",
    "I = np.identity(2)\n",
    "u_star = np.linalg.solve(I - A, b)\n",
    "\n",
    "print(u_star)"
   ]
  },
  {
   "cell_type": "code",
   "execution_count": 12,
   "id": "2a47d067",
   "metadata": {
    "scrolled": true
   },
   "outputs": [
    {
     "name": "stdout",
     "output_type": "stream",
     "text": [
      "True\n"
     ]
    }
   ],
   "source": [
    "# true if |u_star(i) - u_star_approx(i)| < rtol * |u_star(i)| for all i\n",
    "\n",
    "print(np.allclose(u_star_approx, u_star, rtol=1e-5))"
   ]
  },
  {
   "cell_type": "code",
   "execution_count": 15,
   "id": "4c4e7762",
   "metadata": {},
   "outputs": [
    {
     "name": "stdout",
     "output_type": "stream",
     "text": [
      "Completed iteration 25 with error 2.911659384707832e-06.\n",
      "Terminated successfully in 28 iterations.\n",
      "[2.43902363 4.63414496]\n"
     ]
    }
   ],
   "source": [
    "# Code in DP1\n",
    "S = lambda x: A @ x + b\n",
    "\n",
    "x_star_approx = successive_approx(S, u_0)\n",
    "\n",
    "# Test for approximate equality (prints \"True\")\n",
    "print(x_star_approx)"
   ]
  },
  {
   "cell_type": "markdown",
   "id": "621c3ad5",
   "metadata": {},
   "source": [
    "## Play with the shape of array"
   ]
  },
  {
   "cell_type": "code",
   "execution_count": 12,
   "id": "687a9ba7",
   "metadata": {},
   "outputs": [],
   "source": [
    "a = np.array([1, 2])\n",
    "c = np.array([2,1])"
   ]
  },
  {
   "cell_type": "code",
   "execution_count": 14,
   "id": "d2c2f3d4",
   "metadata": {},
   "outputs": [
    {
     "data": {
      "text/plain": [
       "4"
      ]
     },
     "execution_count": 14,
     "metadata": {},
     "output_type": "execute_result"
    }
   ],
   "source": [
    "# 1-by-2 and 2-by-1\n",
    "a @ c"
   ]
  },
  {
   "cell_type": "code",
   "execution_count": 15,
   "id": "186ff3d8",
   "metadata": {},
   "outputs": [],
   "source": [
    "# 2-by-1 and 1-by-2\n",
    "\n",
    "a.shape = (2, 1)"
   ]
  },
  {
   "cell_type": "code",
   "execution_count": 19,
   "id": "41ceb3e8",
   "metadata": {},
   "outputs": [],
   "source": [
    "c.shape =(1,2)"
   ]
  },
  {
   "cell_type": "code",
   "execution_count": 20,
   "id": "57c92c0b",
   "metadata": {},
   "outputs": [
    {
     "data": {
      "text/plain": [
       "array([[2, 1],\n",
       "       [4, 2]])"
      ]
     },
     "execution_count": 20,
     "metadata": {},
     "output_type": "execute_result"
    }
   ],
   "source": [
    "a @ c"
   ]
  },
  {
   "cell_type": "code",
   "execution_count": null,
   "id": "1ccacbb9",
   "metadata": {},
   "outputs": [],
   "source": []
  }
 ],
 "metadata": {
  "kernelspec": {
   "display_name": "Python 3 (ipykernel)",
   "language": "python",
   "name": "python3"
  },
  "language_info": {
   "codemirror_mode": {
    "name": "ipython",
    "version": 3
   },
   "file_extension": ".py",
   "mimetype": "text/x-python",
   "name": "python",
   "nbconvert_exporter": "python",
   "pygments_lexer": "ipython3",
   "version": "3.9.13"
  }
 },
 "nbformat": 4,
 "nbformat_minor": 5
}
