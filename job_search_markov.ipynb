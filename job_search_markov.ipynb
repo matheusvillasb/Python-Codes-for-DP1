{
 "cells": [
  {
   "cell_type": "markdown",
   "id": "9228093c",
   "metadata": {},
   "source": [
    "# Job Search Model with Markov State\n",
    "\n",
    "This algorithmn solves the **Job Search Model** using **Markov Chains** to model wage dynamics. The model is based on the following key components:\n",
    "\n",
    "1. **Model Setup and Markov Chain Approximation**: Use `namedtuple` to define the model and then use `tauchen` function from `quantecon` to approximate a Markov process for wages.\n",
    "2. **Bellman Operator and Successive Approximation**: Define Bellman operator and implement successive approximate algorithmn to slove the optimal value function.\n",
    "3. **Greedy Policy**: The optimal policy (v-greedy policy) is derived, determining whether a job seeker should accept a wage offer or continue searching.\n",
    "4. **Visualization**: The stopping and continuation values are plotted to illustrate the decision-making process.\n"
   ]
  },
  {
   "cell_type": "code",
   "execution_count": 291,
   "id": "1c6ec967-929f-4ccf-a915-1421e0b7fcdf",
   "metadata": {},
   "outputs": [],
   "source": [
    "from quantecon.markov import tauchen\n",
    "import numpy as np\n",
    "from numba import jit\n",
    "from scipy.stats import norm\n",
    "from collections import namedtuple\n",
    "import matplotlib.pyplot as plt"
   ]
  },
  {
   "cell_type": "markdown",
   "id": "5d25253b",
   "metadata": {},
   "source": [
    "### Section 1: Model Setup and Markov Chain Approximation"
   ]
  },
  {
   "cell_type": "code",
   "execution_count": 269,
   "id": "508f28a7-3eed-4f22-87e3-8f6479ab40a7",
   "metadata": {},
   "outputs": [],
   "source": [
    "Model = namedtuple(\"Model\", (\"n\", \"w_vals\", \"P\", \"β\", \"c\"))"
   ]
  },
  {
   "cell_type": "code",
   "execution_count": 306,
   "id": "b286cf69",
   "metadata": {},
   "outputs": [],
   "source": [
    "\n",
    "def tauchen_handmade(n_states, ρ, σ, n_std=3):\n",
    "    std_y = σ / np.sqrt(1 - ρ**2) # standard deviation of y\n",
    "    y_vals = np.linspace(-n_std * std_y, n_std * std_y, n_states) # y_vals are the grid points\n",
    "    y_vals.shape = (n_states, 1) # make it a column vector\n",
    "    half_d = (y_vals[1] - y_vals[0]) / 2 # half the distance between two grid points\n",
    "    P = np.zeros((n_states, n_states))\n",
    "\n",
    "    for i in range(n_states):\n",
    "        for j in range(n_states):\n",
    "            if j == 0:\n",
    "                P[i, j] = norm.cdf((y_vals[0] + half_d - ρ * y_vals[i]) / σ)\n",
    "            elif j == n_states - 1:\n",
    "                P[i, j] = 1 - norm.cdf((y_vals[n_states - 1] - half_d - ρ * y_vals[i]) / σ)\n",
    "            else:\n",
    "                P[i, j] = norm.cdf((y_vals[j] + half_d - ρ * y_vals[i]) / σ) - \\\n",
    "                          norm.cdf((y_vals[j] - half_d - ρ * y_vals[i]) / σ)\n",
    "    return y_vals, P\n"
   ]
  },
  {
   "cell_type": "markdown",
   "id": "5a94b20b",
   "metadata": {},
   "source": [
    "### Note\n",
    "$$ y_{t+1} = \\rho y_{t} + \\varepsilon_t,   \\quad \\varepsilon_t \\sim N(0,\\sigma)$$\n",
    "Therefore $\\mathbb{P}(y_{t+1} \\in (y_{val}[j] - \\frac{d}{2}, y_{val}[j] + \\frac{d}{2}) \\mid y_t) = \\mathbb{P}(\\varepsilon_t \\in (y_{val}[j] - \\frac{d}{2} - \\rho y_t, y_{val}[j] + \\frac{d}{2} - \\rho y_t))$"
   ]
  },
  {
   "cell_type": "code",
   "execution_count": 271,
   "id": "130d49e4",
   "metadata": {},
   "outputs": [],
   "source": [
    "def generate_stochastic_matrix(n):\n",
    "    \"\"\"\n",
    "    Generates a transition matrix.\n",
    "    \"\"\"\n",
    "    P = np.random.rand(n, n)\n",
    "    P = P / np.repeat(P.sum(axis=1, keepdims=True), n, axis=1)  # Normalize rows to sum to 1\n",
    "    return P\n"
   ]
  },
  {
   "cell_type": "code",
   "execution_count": 286,
   "id": "145806dd-caa0-46b8-835e-f86f48cb912b",
   "metadata": {},
   "outputs": [
    {
     "name": "stderr",
     "output_type": "stream",
     "text": [
      "C:\\Users\\Ewarde\\AppData\\Local\\Temp\\ipykernel_19316\\138201354.py:11: DeprecationWarning: Conversion of an array with ndim > 0 to a scalar is deprecated, and will error in future. Ensure you extract a single element from your array before performing this operation. (Deprecated NumPy 1.25.)\n",
      "  P[i, j] = norm.cdf((y_vals[0] + half_d - ρ * y_vals[i]) / σ)\n",
      "C:\\Users\\Ewarde\\AppData\\Local\\Temp\\ipykernel_19316\\138201354.py:15: DeprecationWarning: Conversion of an array with ndim > 0 to a scalar is deprecated, and will error in future. Ensure you extract a single element from your array before performing this operation. (Deprecated NumPy 1.25.)\n",
      "  P[i, j] = norm.cdf((y_vals[j] + half_d - ρ * y_vals[i]) / σ) - \\\n",
      "C:\\Users\\Ewarde\\AppData\\Local\\Temp\\ipykernel_19316\\138201354.py:13: DeprecationWarning: Conversion of an array with ndim > 0 to a scalar is deprecated, and will error in future. Ensure you extract a single element from your array before performing this operation. (Deprecated NumPy 1.25.)\n",
      "  P[i, j] = 1 - norm.cdf((y_vals[n_states - 1] - half_d - ρ * y_vals[i]) / σ)\n"
     ]
    },
    {
     "data": {
      "text/plain": [
       "array([[2.56664823e-01, 2.27800718e-02, 2.37195498e-02, ...,\n",
       "        0.00000000e+00, 0.00000000e+00, 0.00000000e+00],\n",
       "       [2.37021785e-01, 2.18767580e-02, 2.28772433e-02, ...,\n",
       "        0.00000000e+00, 0.00000000e+00, 0.00000000e+00],\n",
       "       [2.18234711e-01, 2.09280326e-02, 2.19795353e-02, ...,\n",
       "        0.00000000e+00, 0.00000000e+00, 0.00000000e+00],\n",
       "       ...,\n",
       "       [1.79058988e-38, 2.59786516e-38, 6.31592257e-38, ...,\n",
       "        2.19795353e-02, 2.09280326e-02, 2.18234711e-01],\n",
       "       [7.95876761e-39, 1.16306102e-38, 2.83982838e-38, ...,\n",
       "        2.28772433e-02, 2.18767580e-02, 2.37021785e-01],\n",
       "       [3.52388773e-39, 5.18687679e-39, 1.27193504e-38, ...,\n",
       "        2.37195498e-02, 2.27800718e-02, 2.56664823e-01]])"
      ]
     },
     "execution_count": 286,
     "metadata": {},
     "output_type": "execute_result"
    }
   ],
   "source": [
    "def create_markov_js_model1(\n",
    "        n=200,       # wage grid size\n",
    "        ρ=0.9,       # wage persistence\n",
    "        ν=0.2,       # wage volatility\n",
    "        β=0.98,      # discount factor\n",
    "        c=1.0,        # unemployment compensation\n",
    "        version=0\n",
    "    ):\n",
    "    \"\"\"\n",
    "    Default.\n",
    "    \"\"\"\n",
    "    if version ==0:\n",
    "        mc = tauchen(n, ρ, ν)\n",
    "        w_vals, P = np.exp(mc.state_values), mc.P\n",
    "   \n",
    "        \n",
    "    if version == 1:\n",
    "        w_vals, P = tauchen_handmade(n, ρ, ν)\n",
    "        w_vals = np.exp(w_vals) \n",
    "     \n",
    "    else:\n",
    "        mc = tauchen(n, ρ, ν)\n",
    "        P_prime = generate_stochastic_matrix(n)\n",
    "        w_vals, P = np.exp(mc.state_values), P_prime\n",
    "        \n",
    "       \n",
    "    w_vals.shape = (n, 1)\n",
    "    return Model(n=n, w_vals=w_vals, P=P, β=β, c=c)\n",
    "\n",
    "model = create_markov_js_model1(n=200, ρ=0.9, ν=0.2, β=0.98, c=1.0, version=1)\n"
   ]
  },
  {
   "cell_type": "code",
   "execution_count": 290,
   "id": "3abddcf3",
   "metadata": {},
   "outputs": [],
   "source": [
    "def create_markov_js_model1(\n",
    "        n=200,       # wage grid size\n",
    "        ρ=0.9,       # wage persistence\n",
    "        ν=0.2,       # wage volatility\n",
    "        β=0.98,      # discount factor\n",
    "        c=1.0,        # unemployment compensation\n",
    "    ):\n",
    "    \"\"\"\n",
    "    Default.\n",
    "    \"\"\"\n",
    "   \n",
    "    mc = tauchen(n, ρ, ν)\n",
    "    w_vals, P = np.exp(mc.state_values), mc.P\n",
    "        \n",
    "       \n",
    "    w_vals.shape = (n, 1)\n",
    "    return Model(n=n, w_vals=w_vals, P=P, β=β, c=c)\n",
    "\n",
    "\n"
   ]
  },
  {
   "cell_type": "code",
   "execution_count": 288,
   "id": "ab8567e0",
   "metadata": {},
   "outputs": [
    {
     "data": {
      "text/plain": [
       "array([[0.25246203],\n",
       "       [0.25597889],\n",
       "       [0.25954474],\n",
       "       [0.26316027],\n",
       "       [0.26682615],\n",
       "       [0.27054311],\n",
       "       [0.27431184],\n",
       "       [0.27813307],\n",
       "       [0.28200754],\n",
       "       [0.28593597],\n",
       "       [0.28991913],\n",
       "       [0.29395778],\n",
       "       [0.29805268],\n",
       "       [0.30220463],\n",
       "       [0.30641441],\n",
       "       [0.31068284],\n",
       "       [0.31501073],\n",
       "       [0.31939891],\n",
       "       [0.32384822],\n",
       "       [0.3283595 ],\n",
       "       [0.33293363],\n",
       "       [0.33757148],\n",
       "       [0.34227394],\n",
       "       [0.3470419 ],\n",
       "       [0.35187628],\n",
       "       [0.356778  ],\n",
       "       [0.36174801],\n",
       "       [0.36678725],\n",
       "       [0.37189668],\n",
       "       [0.3770773 ],\n",
       "       [0.38233008],\n",
       "       [0.38765603],\n",
       "       [0.39305618],\n",
       "       [0.39853155],\n",
       "       [0.40408319],\n",
       "       [0.40971217],\n",
       "       [0.41541956],\n",
       "       [0.42120646],\n",
       "       [0.42707397],\n",
       "       [0.43302322],\n",
       "       [0.43905534],\n",
       "       [0.44517149],\n",
       "       [0.45137284],\n",
       "       [0.45766057],\n",
       "       [0.4640359 ],\n",
       "       [0.47050003],\n",
       "       [0.47705422],\n",
       "       [0.4836997 ],\n",
       "       [0.49043776],\n",
       "       [0.49726968],\n",
       "       [0.50419677],\n",
       "       [0.51122036],\n",
       "       [0.51834178],\n",
       "       [0.52556241],\n",
       "       [0.53288363],\n",
       "       [0.54030683],\n",
       "       [0.54783344],\n",
       "       [0.55546489],\n",
       "       [0.56320266],\n",
       "       [0.57104821],\n",
       "       [0.57900305],\n",
       "       [0.58706871],\n",
       "       [0.59524672],\n",
       "       [0.60353866],\n",
       "       [0.6119461 ],\n",
       "       [0.62047066],\n",
       "       [0.62911397],\n",
       "       [0.63787769],\n",
       "       [0.64676348],\n",
       "       [0.65577306],\n",
       "       [0.66490814],\n",
       "       [0.67417048],\n",
       "       [0.68356184],\n",
       "       [0.69308403],\n",
       "       [0.70273886],\n",
       "       [0.71252819],\n",
       "       [0.72245388],\n",
       "       [0.73251784],\n",
       "       [0.742722  ],\n",
       "       [0.7530683 ],\n",
       "       [0.76355873],\n",
       "       [0.77419529],\n",
       "       [0.78498003],\n",
       "       [0.79591499],\n",
       "       [0.80700229],\n",
       "       [0.81824403],\n",
       "       [0.82964237],\n",
       "       [0.8411995 ],\n",
       "       [0.85291762],\n",
       "       [0.86479897],\n",
       "       [0.87684584],\n",
       "       [0.88906052],\n",
       "       [0.90144535],\n",
       "       [0.91400271],\n",
       "       [0.92673499],\n",
       "       [0.93964464],\n",
       "       [0.95273413],\n",
       "       [0.96600595],\n",
       "       [0.97946265],\n",
       "       [0.99310681],\n",
       "       [1.00694104],\n",
       "       [1.02096797],\n",
       "       [1.03519031],\n",
       "       [1.04961077],\n",
       "       [1.06423211],\n",
       "       [1.07905713],\n",
       "       [1.09408866],\n",
       "       [1.10932959],\n",
       "       [1.12478283],\n",
       "       [1.14045133],\n",
       "       [1.1563381 ],\n",
       "       [1.17244618],\n",
       "       [1.18877865],\n",
       "       [1.20533863],\n",
       "       [1.2221293 ],\n",
       "       [1.23915386],\n",
       "       [1.25641558],\n",
       "       [1.27391776],\n",
       "       [1.29166376],\n",
       "       [1.30965695],\n",
       "       [1.3279008 ],\n",
       "       [1.34639879],\n",
       "       [1.36515446],\n",
       "       [1.3841714 ],\n",
       "       [1.40345325],\n",
       "       [1.4230037 ],\n",
       "       [1.4428265 ],\n",
       "       [1.46292543],\n",
       "       [1.48330435],\n",
       "       [1.50396715],\n",
       "       [1.52491778],\n",
       "       [1.54616027],\n",
       "       [1.56769866],\n",
       "       [1.5895371 ],\n",
       "       [1.61167974],\n",
       "       [1.63413084],\n",
       "       [1.65689469],\n",
       "       [1.67997565],\n",
       "       [1.70337813],\n",
       "       [1.72710661],\n",
       "       [1.75116563],\n",
       "       [1.7755598 ],\n",
       "       [1.80029379],\n",
       "       [1.82537233],\n",
       "       [1.85080023],\n",
       "       [1.87658233],\n",
       "       [1.90272359],\n",
       "       [1.929229  ],\n",
       "       [1.95610364],\n",
       "       [1.98335266],\n",
       "       [2.01098125],\n",
       "       [2.03899472],\n",
       "       [2.06739842],\n",
       "       [2.0961978 ],\n",
       "       [2.12539836],\n",
       "       [2.15500568],\n",
       "       [2.18502545],\n",
       "       [2.2154634 ],\n",
       "       [2.24632535],\n",
       "       [2.27761722],\n",
       "       [2.309345  ],\n",
       "       [2.34151475],\n",
       "       [2.37413263],\n",
       "       [2.40720489],\n",
       "       [2.44073785],\n",
       "       [2.47473794],\n",
       "       [2.50921165],\n",
       "       [2.5441656 ],\n",
       "       [2.57960645],\n",
       "       [2.61554101],\n",
       "       [2.65197615],\n",
       "       [2.68891884],\n",
       "       [2.72637615],\n",
       "       [2.76435525],\n",
       "       [2.8028634 ],\n",
       "       [2.84190799],\n",
       "       [2.88149647],\n",
       "       [2.92163643],\n",
       "       [2.96233556],\n",
       "       [3.00360163],\n",
       "       [3.04544255],\n",
       "       [3.08786632],\n",
       "       [3.13088106],\n",
       "       [3.17449502],\n",
       "       [3.21871652],\n",
       "       [3.26355404],\n",
       "       [3.30901616],\n",
       "       [3.35511158],\n",
       "       [3.40184912],\n",
       "       [3.44923772],\n",
       "       [3.49728646],\n",
       "       [3.54600453],\n",
       "       [3.59540126],\n",
       "       [3.64548609],\n",
       "       [3.69626862],\n",
       "       [3.74775856],\n",
       "       [3.79996577],\n",
       "       [3.85290024],\n",
       "       [3.9065721 ],\n",
       "       [3.96099162]])"
      ]
     },
     "execution_count": 288,
     "metadata": {},
     "output_type": "execute_result"
    }
   ],
   "source": [
    "model.w_vals"
   ]
  },
  {
   "cell_type": "code",
   "execution_count": 273,
   "id": "73c2c420",
   "metadata": {},
   "outputs": [],
   "source": [
    "def create_markov_js_model2(\n",
    "        n=200,       # wage grid size\n",
    "        ρ=0.9,       # wage persistence\n",
    "        ν=0.2,       # wage volatility\n",
    "        β=0.98,      # discount factor\n",
    "        c=1.0        # unemployment compensation\n",
    "    ):\n",
    "    \"\"\"\n",
    "    Use tauchen_handmade.\n",
    "    \"\"\"\n",
    "    w_vals, P = tauchen_handmade(n, ρ, ν)\n",
    "    w_vals = np.exp(w_vals) \n",
    "    w_vals.shape = (n, 1) # reshape to column vector\n",
    "    return Model(n=n, w_vals=w_vals, P=P, β=β, c=c)\n"
   ]
  },
  {
   "cell_type": "code",
   "execution_count": 274,
   "id": "313ed074",
   "metadata": {},
   "outputs": [],
   "source": [
    "def create_markov_js_model3(\n",
    "        n=200,       # wage grid size\n",
    "        ρ=0.9,       # wage persistence\n",
    "        ν=0.2,       # wage volatility\n",
    "        β=0.98,      # discount factor\n",
    "        c=1.0        # unemployment compensation\n",
    "    ):\n",
    "    \"\"\"\n",
    "    Use randomly generated transition matrix.\n",
    "    \"\"\"\n",
    "    mc = tauchen(n, ρ, ν)\n",
    "    P_prime = generate_stochastic_matrix(n)\n",
    "    w_vals, P = np.exp(mc.state_values), P_prime\n",
    "    w_vals.shape = (n, 1)\n",
    "    return Model(n=n, w_vals=w_vals, P=P, β=β, c=c)\n"
   ]
  },
  {
   "cell_type": "markdown",
   "id": "161d7038",
   "metadata": {},
   "source": [
    "### Section 2: Bellman Operator and Successive Approximation"
   ]
  },
  {
   "cell_type": "code",
   "execution_count": 303,
   "id": "468a81c6-db58-45a1-901f-4d5f12604a95",
   "metadata": {},
   "outputs": [],
   "source": [
    "\n",
    "def creat_bellman_op(Model):\n",
    "    \"\"\"\n",
    "    Define Bellman operation by packing a function inside a function.\n",
    "    \"\"\"\n",
    "    n, w_vals, P, β, c = Model\n",
    "    @jit\n",
    "    def bellman_op(v):\n",
    "        # Bellman operator\n",
    "        return np.maximum(w_vals / (1 - β), c + β * P @ v)\n",
    "    \n",
    "    return bellman_op\n",
    "#model1 = create_markov_js_model1(n=200, ρ=0.9, ν=0.2, β=0.98, c=1.0)\n",
    "#bellman_op = creat_bellman_op(model1)"
   ]
  },
  {
   "cell_type": "code",
   "execution_count": 295,
   "id": "a38db65a",
   "metadata": {},
   "outputs": [],
   "source": [
    "def direct_define(Model, v):\n",
    "    \"\"\"\n",
    "    Directly define the Bellman operator\n",
    "    \"\"\"\n",
    "    n, w_vals, P, β, c = Model\n",
    "    return np.maximum(w_vals / (1 - β), c + β * P @ v)"
   ]
  },
  {
   "cell_type": "markdown",
   "id": "85080d4e-c825-42d8-982e-dfbe1f659a2d",
   "metadata": {},
   "source": [
    "### Note\n",
    "\n",
    "$P$ is the transition matrix, and $P_{ij}$ is the probability $\\mathbb{P}(W_{t+1} = w_j \\mid W_{t} = w_i) $. Write $P = \\begin{bmatrix}p_1^T\\\\ p_2^T\\\\ ...\\\\p_n^T\\\\ \\end{bmatrix}$, $$p_i^T v(w) = \\sum_{j = 1}^{n} \\mathbb{P}(W_{t+1} = w_j \\mid W_{t} = w_i) v(w_j) = \\mathbb{E}_t(v(W_{t+1})\\mid W_{t} = w_i)$$\n",
    "So, each row of `P @ v` is the expected value under different wage offer at time $t$, and each row of `w_vals` is the stopping value under $W_t = w_i$."
   ]
  },
  {
   "cell_type": "code",
   "execution_count": 296,
   "id": "7877997b-b2d6-4642-836d-89c76b345eb7",
   "metadata": {},
   "outputs": [],
   "source": [
    "def s_appro(T, v0, itermax=10000, tolerance=10^-6):\n",
    "    \"\"\"\n",
    "    Successive approach\n",
    "    \"\"\"\n",
    "    itertime = 0\n",
    "    error = 1\n",
    "    v_old = v0\n",
    "    v_new = v0\n",
    "    while itertime < itermax and error > tolerance:\n",
    "        v_new = T(v_old)\n",
    "        error = np.max(np.abs(v_new - v_old))\n",
    "        itertime = itertime + 1\n",
    "        v_old = v_new\n",
    "    return v_new"
   ]
  },
  {
   "cell_type": "markdown",
   "id": "df606441",
   "metadata": {},
   "source": [
    "### Section 3: Greedy Policy\n",
    "\n",
    "**Definition** (v-greedy policy):\n",
    "$$\n",
    "\\sigma(w) = \\mathbb{1} \\left\\{ \\frac{w'}{1 - \\beta} \\geq c + \\beta \\sum_{w'} v(w') P(w, w') \\right\\}\n",
    "$$"
   ]
  },
  {
   "cell_type": "code",
   "execution_count": 278,
   "id": "1a874f95-c383-410c-9b2d-901c52c8f83c",
   "metadata": {},
   "outputs": [],
   "source": [
    "def get_greedy(v_star, Model):\n",
    "    _, w_vals, P, β, c = Model\n",
    "    stopping_value = w_vals / (1 - β)\n",
    "    continuation_value = c + β * (P @ v_star)\n",
    "    return stopping_value >= continuation_value"
   ]
  },
  {
   "cell_type": "markdown",
   "id": "13d4945d",
   "metadata": {},
   "source": [
    "### Section 4: Visualization"
   ]
  },
  {
   "cell_type": "code",
   "execution_count": 297,
   "id": "71f21033-73d6-4c62-92ae-3a4a6a57eec3",
   "metadata": {},
   "outputs": [],
   "source": [
    "def plot(model_all, v_star_all):\n",
    "    \"\"\"\n",
    "    Plot the stopping and continuation values\n",
    "    \"\"\"\n",
    "    fig, axes = plt.subplots(1, len(model_all), figsize=(15, 5), sharey=True)\n",
    "    i = 0\n",
    "    for model, v_star in zip(model_all, v_star_all):\n",
    "        stopping_value = model.w_vals / (1 - model.β)\n",
    "        continuation_value = model.c + model.β * (model.P @ v_star)\n",
    "\n",
    "        policy = get_greedy(v_star, model)\n",
    "        index = np.argmin(np.abs(stopping_value - continuation_value))  # Find the index of the closest value\n",
    "        adjustment = stopping_value[index]\n",
    "        policy = adjustment * np.array(policy, dtype=float)  # Adjust policy values\n",
    "        policy.shape = (model.n, 1)  # Reshape to column vector\n",
    "        ## Can this be done in a more elegant way?\n",
    "        \n",
    "        ax = axes[i]\n",
    "        ax.plot(model.w_vals, stopping_value, linestyle='--', label='Stopping Value')\n",
    "        ax.plot(model.w_vals, continuation_value, linestyle='--', label='Continuation Value')\n",
    "        ax.plot(model.w_vals, policy, label='Policy')\n",
    "    \n",
    "        ax.set_xlabel('Wage')\n",
    "        ax.set_ylabel('Value')\n",
    "        ax.set_title(f'Model {i+1}')\n",
    "        ax.legend()\n",
    "        i += 1\n"
   ]
  },
  {
   "cell_type": "code",
   "execution_count": 307,
   "id": "12cc04ee",
   "metadata": {},
   "outputs": [
    {
     "name": "stderr",
     "output_type": "stream",
     "text": [
      "C:\\Users\\Ewarde\\AppData\\Local\\Temp\\ipykernel_19316\\1669510192.py:11: DeprecationWarning: Conversion of an array with ndim > 0 to a scalar is deprecated, and will error in future. Ensure you extract a single element from your array before performing this operation. (Deprecated NumPy 1.25.)\n",
      "  P[i, j] = norm.cdf((y_vals[0] + half_d - ρ * y_vals[i]) / σ)\n",
      "C:\\Users\\Ewarde\\AppData\\Local\\Temp\\ipykernel_19316\\1669510192.py:15: DeprecationWarning: Conversion of an array with ndim > 0 to a scalar is deprecated, and will error in future. Ensure you extract a single element from your array before performing this operation. (Deprecated NumPy 1.25.)\n",
      "  P[i, j] = norm.cdf((y_vals[j] + half_d - ρ * y_vals[i]) / σ) - \\\n",
      "C:\\Users\\Ewarde\\AppData\\Local\\Temp\\ipykernel_19316\\1669510192.py:13: DeprecationWarning: Conversion of an array with ndim > 0 to a scalar is deprecated, and will error in future. Ensure you extract a single element from your array before performing this operation. (Deprecated NumPy 1.25.)\n",
      "  P[i, j] = 1 - norm.cdf((y_vals[n_states - 1] - half_d - ρ * y_vals[i]) / σ)\n"
     ]
    }
   ],
   "source": [
    "model1 = create_markov_js_model1(n=300)\n",
    "model2 = create_markov_js_model2(n=300)\n",
    "model3 = create_markov_js_model3(n=300)"
   ]
  },
  {
   "cell_type": "code",
   "execution_count": 309,
   "id": "f2a40d01",
   "metadata": {},
   "outputs": [
    {
     "data": {
      "image/png": "[encoded data removed]",
      "text/plain": [
       "<Figure size 1500x500 with 3 Axes>"
      ]
     },
     "metadata": {},
     "output_type": "display_data"
    }
   ],
   "source": [
    "model_all = [model1, model2, model3]\n",
    "v_star_all = [s_appro(creat_bellman_op(model), np.zeros([model.n, 1])) for model in model_all]\n",
    "\n",
    "plot(model_all, v_star_all)\n",
    "plt.show()\n",
    "    "
   ]
  },
  {
   "cell_type": "code",
   "execution_count": null,
   "id": "0ec2adf9-8e86-4ffb-9227-d86bb6c5c648",
   "metadata": {},
   "outputs": [],
   "source": []
  }
 ],
 "metadata": {
  "kernelspec": {
   "display_name": "Python 3",
   "language": "python",
   "name": "python3"
  },
  "language_info": {
   "codemirror_mode": {
    "name": "ipython",
    "version": 3
   },
   "file_extension": ".py",
   "mimetype": "text/x-python",
   "name": "python",
   "nbconvert_exporter": "python",
   "pygments_lexer": "ipython3",
   "version": "3.13.2"
  }
 },
 "nbformat": 4,
 "nbformat_minor": 5
}
